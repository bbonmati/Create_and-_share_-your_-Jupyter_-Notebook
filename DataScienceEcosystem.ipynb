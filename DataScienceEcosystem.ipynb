{
  "metadata": {
    "kernelspec": {
      "name": "python",
      "display_name": "Python (Pyodide)",
      "language": "python"
    },
    "language_info": {
      "codemirror_mode": {
        "name": "python",
        "version": 3
      },
      "file_extension": ".py",
      "mimetype": "text/x-python",
      "name": "python",
      "nbconvert_exporter": "python",
      "pygments_lexer": "ipython3",
      "version": "3.8"
    }
  },
  "nbformat_minor": 5,
  "nbformat": 4,
  "cells": [
    {
      "id": "f53821c3-b95b-4ddb-8ce0-f2415271b0ad",
      "cell_type": "markdown",
      "source": "# Data Science Tools and Ecosystem",
      "metadata": {}
    },
    {
      "id": "7cb5877c-bbac-4f01-878d-ee04118b7d58",
      "cell_type": "markdown",
      "source": "## En este cuaderno, se resumen las herramientas y ecosistemas de ciencia de datos",
      "metadata": {}
    },
    {
      "id": "5d25b846-93fa-4513-b2ef-1174291d2d1e",
      "cell_type": "markdown",
      "source": "## OBJETIVOS:\n* Listar lenguajes de ciencia de datos\n* Listar bibliotecas de ciencia de datos\n* Tabla de herramientas de ciencias de datos\n* Ejemplos de expresiones aritmeticas\n",
      "metadata": {}
    },
    {
      "id": "252961bc-5906-4090-a78e-db8bb361ab65",
      "cell_type": "markdown",
      "source": "## Algunos de los lenguajes populares que utilizan los científicos de datos son:\n1. Python\n2. R\n3. SQL\n4. JAVA\n5. SCALA\n6. JULIA",
      "metadata": {}
    },
    {
      "id": "e2951aba-d419-47b0-9d11-788cc00ddc4e",
      "cell_type": "markdown",
      "source": "## Algunas de las bibliotecas comúnmente utilizadas por los científicos de datos incluyen:\n1. Numpy\n2. Pandas\n3. Scikit-learn",
      "metadata": {}
    },
    {
      "id": "6de208be-68ea-4cba-812e-bce8eb634d0f",
      "cell_type": "markdown",
      "source": "|Herramientas de Ciencia de Datos|\n|--------------------------------|\n|Python|\n|Jupyter Notebook|\n|Apache Spark|\n",
      "metadata": {}
    },
    {
      "id": "501d10c3-80ea-44a4-bfef-48ce7a01dfe1",
      "cell_type": "markdown",
      "source": "### A continuación, se presentan algunos ejemplos de evaluación de expresiones aritméticas en Python:\n- suma = 5 + 3\n- resta = 5 -3\n- multiplicacion = 5 * 3\n- division_flotante = 10 / 3\n- division_entera = 10 // 3\n- potencia = 2 ** 4\n- raiz_cuadrada = 81 ** 0.25",
      "metadata": {}
    },
    {
      "id": "46a236cb-a605-4c5b-a1ea-fd34dda63e6c",
      "cell_type": "code",
      "source": "# Esto es una expresión aritmetica simple para multiplicar y luegosumar enteros\nresultado = (3*4)+5\nprint (resultado)",
      "metadata": {
        "trusted": true
      },
      "outputs": [
        {
          "name": "stdout",
          "output_type": "stream",
          "text": "17\n"
        }
      ],
      "execution_count": 5
    },
    {
      "id": "dda0cb70-247f-4525-9d80-bcd57eecd60c",
      "cell_type": "code",
      "source": "# Esto convertira 200 minutos ea horas dividiendo entre 60\nhoras = 200 / 60\nprint (horas) ",
      "metadata": {
        "trusted": true
      },
      "outputs": [
        {
          "name": "stdout",
          "output_type": "stream",
          "text": "3.3333333333333335\n"
        }
      ],
      "execution_count": 9
    },
    {
      "id": "0d544dd3-42d7-401b-9f74-419ef1359254",
      "cell_type": "markdown",
      "source": "## AUTOR\nBeatriz Bonmati",
      "metadata": {}
    },
    {
      "id": "a66db925-39d3-46de-9076-dac8433313e2",
      "cell_type": "code",
      "source": "",
      "metadata": {
        "trusted": true
      },
      "outputs": [],
      "execution_count": null
    }
  ]
}